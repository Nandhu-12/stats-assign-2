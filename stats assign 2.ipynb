{
 "cells": [
  {
   "cell_type": "markdown",
   "id": "f8c60a45",
   "metadata": {},
   "source": [
    "1. How can we figure out what the interquartile range is?"
   ]
  },
  {
   "cell_type": "markdown",
   "id": "43e0ef34",
   "metadata": {},
   "source": [
    "The difference between Quartile 3 and Quartile 1 is Basically the IQR.                                               \n",
    "IQR = Q3 - Q1"
   ]
  },
  {
   "cell_type": "markdown",
   "id": "5ecebc17",
   "metadata": {},
   "source": [
    "2. What exactly is the value of the 5-number theory?"
   ]
  },
  {
   "cell_type": "markdown",
   "id": "db17e59c",
   "metadata": {},
   "source": [
    "5-Number Theory consists of Minimum,Q1,Median,Q3,Maximum."
   ]
  },
  {
   "cell_type": "markdown",
   "id": "af533306",
   "metadata": {},
   "source": [
    "3. What is the relationship between standard deviation and variance?"
   ]
  },
  {
   "cell_type": "markdown",
   "id": "35f08526",
   "metadata": {},
   "source": [
    "In Simple words , Variance is used to find how well the data is spreading and SD gives us the range where the data is dispersed like within 1SD,2SD...\n"
   ]
  },
  {
   "cell_type": "markdown",
   "id": "7ea132b2",
   "metadata": {},
   "source": [
    "4. When is it appropriate to refer to a skewed data distribution?"
   ]
  },
  {
   "cell_type": "markdown",
   "id": "c4ac1d3c",
   "metadata": {},
   "source": [
    "In pareto distribution there are chances to get skewed data and it can handled with BoxCox transform or Log(x) transform."
   ]
  },
  {
   "cell_type": "code",
   "execution_count": null,
   "id": "a7a4e0e6",
   "metadata": {},
   "outputs": [],
   "source": []
  }
 ],
 "metadata": {
  "kernelspec": {
   "display_name": "Python 3 (ipykernel)",
   "language": "python",
   "name": "python3"
  },
  "language_info": {
   "codemirror_mode": {
    "name": "ipython",
    "version": 3
   },
   "file_extension": ".py",
   "mimetype": "text/x-python",
   "name": "python",
   "nbconvert_exporter": "python",
   "pygments_lexer": "ipython3",
   "version": "3.9.7"
  }
 },
 "nbformat": 4,
 "nbformat_minor": 5
}
